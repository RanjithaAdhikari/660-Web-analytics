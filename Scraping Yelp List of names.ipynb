{
 "cells": [
  {
   "cell_type": "code",
   "execution_count": 39,
   "metadata": {},
   "outputs": [
    {
     "name": "stdout",
     "output_type": "stream",
     "text": [
      "Requirement already satisfied: lxml in c:\\users\\keval\\anaconda2\\lib\\site-packages\n"
     ]
    }
   ],
   "source": [
    "!pip install lxml\n",
    "import unicodedata"
   ]
  },
  {
   "cell_type": "code",
   "execution_count": 173,
   "metadata": {
    "collapsed": true
   },
   "outputs": [],
   "source": [
    "from lxml import etree"
   ]
  },
  {
   "cell_type": "code",
   "execution_count": 174,
   "metadata": {},
   "outputs": [
    {
     "data": {
      "text/plain": [
       "'html'"
      ]
     },
     "execution_count": 174,
     "metadata": {},
     "output_type": "execute_result"
    }
   ],
   "source": [
    "root = etree.Element('html')\n",
    "root.tag"
   ]
  },
  {
   "cell_type": "code",
   "execution_count": 175,
   "metadata": {},
   "outputs": [
    {
     "name": "stdout",
     "output_type": "stream",
     "text": [
      "<html><head/><body/></html>\n"
     ]
    }
   ],
   "source": [
    "etree.SubElement(root,'head')\n",
    "etree.SubElement(root,'body')\n",
    "print(etree.tostring(root))"
   ]
  },
  {
   "cell_type": "code",
   "execution_count": 176,
   "metadata": {
    "collapsed": true
   },
   "outputs": [],
   "source": [
    "import requests"
   ]
  },
  {
   "cell_type": "code",
   "execution_count": 177,
   "metadata": {
    "collapsed": true
   },
   "outputs": [],
   "source": [
    "from lxml import html"
   ]
  },
  {
   "cell_type": "code",
   "execution_count": 178,
   "metadata": {},
   "outputs": [
    {
     "name": "stdout",
     "output_type": "stream",
     "text": [
      "0\n",
      "10\n",
      "20\n",
      "30\n",
      "40\n",
      "50\n",
      "60\n",
      "70\n",
      "80\n",
      "90\n",
      "100\n",
      "110\n",
      "120\n",
      "130\n",
      "140\n",
      "150\n",
      "160\n",
      "170\n",
      "180\n",
      "190\n",
      "200\n",
      "210\n",
      "220\n",
      "230\n",
      "240\n",
      "250\n",
      "260\n",
      "270\n",
      "280\n",
      "290\n",
      "300\n",
      "310\n",
      "320\n",
      "330\n",
      "340\n",
      "350\n",
      "360\n",
      "370\n",
      "380\n"
     ]
    }
   ],
   "source": [
    "import numpy as np\n",
    "s=np.arange(0,390,10)\n",
    "s\n",
    "for j in s:\n",
    "    print(j)"
   ]
  },
  {
   "cell_type": "code",
   "execution_count": 179,
   "metadata": {
    "collapsed": true
   },
   "outputs": [],
   "source": [
    "import io\n"
   ]
  },
  {
   "cell_type": "code",
   "execution_count": 181,
   "metadata": {},
   "outputs": [],
   "source": [
    "#with io.open(\"C:\\Users\\Keval\\Documents\\List_hoboken.txt\",'w',encoding=character_encoding) as file:\n",
    "f = open(\"C:\\Users\\Keval\\Documents\\List_hoboken.txt\",\"w\")\n",
    "import numpy as np\n",
    "title=[]\n",
    "for j in s:    \n",
    "    page=requests.get('https://www.yelp.com/search?find_loc=Hoboken,+NJ&start='+str(j))\n",
    "    html_content = html.fromstring(page.content)\n",
    "    for i in range(1,10):\n",
    "        x=[]\n",
    "        x=html_content.xpath('//*[@id=\"super-container\"]/div/div[2]/div[1]/div/div[4]/ul[2]/li['+str(i)+']/div/div[1]/div[1]/div/div[2]/h3/span/a/span/text()')\n",
    "        #x1=x[0]\n",
    "        #print(type(x1))\n",
    "        f.write(str(x))\n",
    "        \n",
    "        #title.append(x1)\n",
    "f.close()"
   ]
  },
  {
   "cell_type": "code",
   "execution_count": 184,
   "metadata": {},
   "outputs": [
    {
     "data": {
      "text/plain": [
       "[]"
      ]
     },
     "execution_count": 184,
     "metadata": {},
     "output_type": "execute_result"
    }
   ],
   "source": [
    "page=requests.get('https://www.yelp.com/search?find_loc=Hoboken,+NJ&start=0')\n",
    "html_content = html.fromstring(page.content)\n",
    "y=html_content.xpath('//*[@id=\"super-container\"]/div/div[2]/div[1]/div/div[4]/ul[2]/li[1]/div/div[1]/div[1]/div/div[2]/h3/span/a/span/text()')\n",
    "y"
   ]
  },
  {
   "cell_type": "code",
   "execution_count": 112,
   "metadata": {},
   "outputs": [
    {
     "ename": "IndexError",
     "evalue": "tuple index out of range",
     "output_type": "error",
     "traceback": [
      "\u001b[1;31m---------------------------------------------------------------------------\u001b[0m",
      "\u001b[1;31mIndexError\u001b[0m                                Traceback (most recent call last)",
      "\u001b[1;32m<ipython-input-112-862c5569911e>\u001b[0m in \u001b[0;36m<module>\u001b[1;34m()\u001b[0m\n\u001b[1;32m----> 1\u001b[1;33m \u001b[0mnp\u001b[0m\u001b[1;33m.\u001b[0m\u001b[0msavetxt\u001b[0m\u001b[1;33m(\u001b[0m\u001b[1;34m\"sample.txt\"\u001b[0m\u001b[1;33m,\u001b[0m\u001b[0mnpa\u001b[0m\u001b[1;33m,\u001b[0m \u001b[0mnewline\u001b[0m\u001b[1;33m=\u001b[0m\u001b[1;34m\" \"\u001b[0m\u001b[1;33m)\u001b[0m\u001b[1;33m\u001b[0m\u001b[0m\n\u001b[0m",
      "\u001b[1;32mC:\\Users\\Keval\\Anaconda2\\lib\\site-packages\\numpy\\lib\\npyio.pyc\u001b[0m in \u001b[0;36msavetxt\u001b[1;34m(fname, X, fmt, delimiter, newline, header, footer, comments)\u001b[0m\n\u001b[0;32m   1173\u001b[0m                 \u001b[0mncol\u001b[0m \u001b[1;33m=\u001b[0m \u001b[0mlen\u001b[0m\u001b[1;33m(\u001b[0m\u001b[0mX\u001b[0m\u001b[1;33m.\u001b[0m\u001b[0mdtype\u001b[0m\u001b[1;33m.\u001b[0m\u001b[0mdescr\u001b[0m\u001b[1;33m)\u001b[0m\u001b[1;33m\u001b[0m\u001b[0m\n\u001b[0;32m   1174\u001b[0m         \u001b[1;32melse\u001b[0m\u001b[1;33m:\u001b[0m\u001b[1;33m\u001b[0m\u001b[0m\n\u001b[1;32m-> 1175\u001b[1;33m             \u001b[0mncol\u001b[0m \u001b[1;33m=\u001b[0m \u001b[0mX\u001b[0m\u001b[1;33m.\u001b[0m\u001b[0mshape\u001b[0m\u001b[1;33m[\u001b[0m\u001b[1;36m1\u001b[0m\u001b[1;33m]\u001b[0m\u001b[1;33m\u001b[0m\u001b[0m\n\u001b[0m\u001b[0;32m   1176\u001b[0m \u001b[1;33m\u001b[0m\u001b[0m\n\u001b[0;32m   1177\u001b[0m         \u001b[0miscomplex_X\u001b[0m \u001b[1;33m=\u001b[0m \u001b[0mnp\u001b[0m\u001b[1;33m.\u001b[0m\u001b[0miscomplexobj\u001b[0m\u001b[1;33m(\u001b[0m\u001b[0mX\u001b[0m\u001b[1;33m)\u001b[0m\u001b[1;33m\u001b[0m\u001b[0m\n",
      "\u001b[1;31mIndexError\u001b[0m: tuple index out of range"
     ]
    }
   ],
   "source": [
    "np.savetxt(\"sample.txt\",npa, newline=\" \")"
   ]
  },
  {
   "cell_type": "code",
   "execution_count": 107,
   "metadata": {},
   "outputs": [],
   "source": [
    "f = open(\"C:\\Users\\Keval\\Documents\\List_hoboken.txt\",\"w\")\n",
    "for x in title:\n",
    "    f.write(\"%s\\n\"%x)\n",
    "f.close()"
   ]
  },
  {
   "cell_type": "code",
   "execution_count": 105,
   "metadata": {},
   "outputs": [
    {
     "data": {
      "text/plain": [
       "\"[['Fiore Deli of Hoboken'], ['M & P Biancamano'], [u'Vito\\\\u2019s Italian Deli'], ['Black Rail Coffee'], [u'bw\\\\xe8 kafe'], ['The Cuban Restaurant and Bar'], ['Simply Juiced'], [u'Fran\\\\u2019s Italian Deli'], [u'Makai Pok\\\\xe9'], [u'Mamoun\\\\u2019s Falafel Restaurant'], ['La Isla Restaurant'], ['Empanadas Cafe'], [u'Amanda\\\\u2019s Restaurant'], ['Choc O Pain'], ['Gogi Grill'], [u'Moran\\\\u2019s'], ['Koro Koro'], ['Rosticeria Da Gigi'], [u'Anthony David\\\\u2019s'], ['Ultramarinos'], ['Karma Kafe'], [u'Augustino\\\\u2019s'], ['Green Pear Cafe'], ['Johnny Pepperoni'], ['Onieals'], [u'Grimaldi\\\\u2019s'], ['Midtown Philly Steaks'], [u'Losurdo\\\\u2019s Italian Bakery & Deli'], ['Dilli Junction'], [u'Frankie & Ava\\\\u2019s Italian Eatery'], ['Grand Vin'], [u'Mulligan\\\\u2019s'], [u'Zack\\\\u2019s Oak Bar & Restaurant'], ['Ali Baba'], [u'Benny Tudino\\\\u2019s Pizzeria'], [u'Piccolo\\\\u2019s'], ['Elysian Cafe'], ['Bluestone Lane'], [u'Margherita\\\\u2019s Pizzeria'], ['Lo-Fatt-Chow'], ['Okinawa Sushi & Grill'], ['Vivi Bubble Tea'], ['Panello'], ['Cucharamama'], ['Aether Game Cafe'], [u'Tony Boloney\\\\u2019s'], ['Satay Malaysian Cuisine'], ['Robongi'], ['The Little Grocery Downtown'], ['Mikie Squared Bar & Grill'], ['Otto Strada'], ['Bareburger'], [u'Napoli\\\\u2019s Brick Oven Pizza'], ['Chicken Factory'], ['honeygrow'], ['Flatbread Grill'], [u'Leo\\\\u2019s Grandevous'], ['Keming Restaurant'], ['Blue Eyes Restaurant'], ['Zafra Kitchen'], ['T Thai'], ['Bin 14'], ['Cafe Michelina'], ['Arthurs'], [u'Biggie\\\\u2019s'], ['Hoboken Turtle Club'], ['Sushi Lounge'], ['Hoboken Hot Bagels'], ['The Stewed Cow'], [u'Del Frisco\\\\u2019s Grille'], [u'Charrito\\\\u2019s'], ['Illuzion'], ['Turning Point of Hoboken'], [u'Schnackenberg\\\\u2019s Luncheonette'], ['Dino & Harrys Steakhouse'], ['San Giuseppe'], ['Greektown'], ['Dozzino'], ['House of Que'], ['Trattoria Saporito'], ['La Isla Restaurant - Uptown'], [u'O\\\\u2019Bagel'], ['Ayame Hibachi & Sushi'], ['Jacks Cabin'], ['Birch Hoboken'], ['The Madison Bar & Grill'], [u'Giovanni\\\\u2019s Pizzeria & Restaurant'], ['Pizza Republic'], ['Little Market'], ['Aroy-D, The Thai Elephant Truck'], ['Chipotle Mexican Grill'], ['Yeung II Sushi Asian Cuisine'], ['Willie McBrides'], ['Sushi House'], ['La Bouche Cafe'], ['Farside Bar & Grill'], [u'D\\\\u2019s Soul Full Cafe'], ['Hudson Tavern'], ['Sorellina'], ['City Bistro'], ['Hot House Pizza'], ['Ubu'], ['Pita Pit'], ['Sri Thai Thai Restaurant'], ['The Little Grocery'], ['Mr Wraps'], ['Panera Bread'], [u'Lola\\\\u2019s'], ['The Dubliner'], ['Pho Nomenon Noodle & Grill'], [u'Basile\\\\u2019s Pizza'], [u'McSwiggan\\\\u2019s Pub'], ['The Shepherd & the Knucklehead'], ['The Hoboken Gourmet Company'], [u'Marty O\\\\u2019Brien\\\\u2019s'], [u'Torna\\\\u2019s Pizzeria'], ['Northern Soul'], ['Ainsworth Hoboken'], [u'Mario\\\\u2019s Classic Pizza'], ['Hotel Victor Bar & Grill'], [u'It\\\\u2019s Greek To Me'], ['Spa Diner'], ['Sahara Grill & Pita Truck'], ['Hoboken Bar & Grill'], ['Wicked Wolf Tavern'], ['Green Rock Tap & Grill'], ['Texas Arizona'], ['Stacks Pancake House & Cafe'], ['Hoboken Arts and Music Festival'], [u'Delfino\\\\u2019s Pizzeria'], ['Taphaus Hoboken'], ['QDOBA Mexican Eats'], ['Bangkok City Thai Restaurant'], ['Johnny Rockets'], ['East LA'], ['Malibu Diner'], ['Uptown Pizzeria'], ['Union Hall'], ['Istana Sushi & Wok'], ['So Gong Dong Fresh'], ['Off the Wall Chinese Cuisine'], ['Village Pourhouse'], ['8th Street Tavern'], [u'Hansel \\\\u2018n Griddle'], ['Hoboken Burrito'], ['The Brick Fire Baked Pizza'], ['Phoenix Bar and Grille'], ['Number 1 Chinese Kitchen'], ['Cluck U Chicken'], ['Pure Pita'], ['Hudson Ultra Bar'], ['Rice Shop'], ['Green Garden'], ['Falafull'], ['Liberty Gourmet'], ['Coco Havana'], ['Rome Pizzeria & Grill'], [u'Chen\\\\u2019s Kitchen'], [u'Jimmy John\\\\u2019s'], ['Wings To Go - Hoboken'], [u'Mill\\\\u2019s Tavern'], [u'Imposto\\\\u2019s Pizza'], ['Pizzeria Hoboken'], ['Urban Coalhouse Pizza + Bar'], ['Asia Sushi & Chinese Cuisine'], ['Delight Deli & Grocery'], ['7 Stars Pizzeria'], ['Cals Hotdogs'], ['Quality Greens Kitchen'], ['Surf Taco'], ['Charritos Midtown'], ['Muscle Maker Grill'], ['Wok To Walk'], ['Mision Burrito'], [u'McDonald\\\\u2019s'], ['Big Banner Restaurant'], ['Signature Kitchen'], ['MONDO - DOGS'], [u'Sasso\\\\u2019s Liquors & Delicatessen'], ['Fiore House of Quality Dairy'], ['Grande Pizza'], ['On the FlipSide'], ['Raf Deli and Cafe'], ['Pier C'], ['Gelato Summer Popup'], ['Frank Sinatra Park'], ['Kung Fu Tea'], ['Indian Grill'], ['Empire Coffee & Tea Company'], [u'Tony Dragon\\\\u2019s Grille'], ['Field House Grill'], ['Bean Vault Coffee'], ['Park & Eleventh Deli'], [u'Junior\\\\u2019s Papaya Grill'], ['Pier A Park'], ['Antique Bar and Bakery'], ['King Souvlaki'], ['Famous Pizza'], ['Park Ave Pizza and Grill'], [u'Anton\\\\u2019s Dumplings'], ['Cork City'], ['Congress Station'], [u'DC\\\\u2019s Tavern'], ['Bona Pizza'], ['La Caseta'], ['Venti Pizza'], ['Subway'], [u'Louise & Jerry\\\\u2019s'], ['Sassos Deli & Liqour'], ['The Health Grill'], [u'Chiddy\\\\u2019s Cheesesteaks'], ['The Ale House'], ['Church Square Park'], ['Santa Fe Dog Express'], ['The Roost Outpost'], [u'Mama Jo\\\\u2019s Breakfast Cart'], ['The Cliff'], [u'Finnegan\\\\u2019s Pub'], ['Atomic Wings'], ['Hudson River Waterfront Walkway'], ['Wilton House'], ['Biryani cart'], ['Black Bear Bar & Grill'], ['Metroarepas'], [u'Domino\\\\u2019s'], ['Corkscrew Bar'], ['Hoboken Hothouse'], ['Buona Pizza'], [u'Luke\\\\u2019s Lobster Mobile Lobster Roll Food Truck'], ['City of Saints Coffee Roasters'], ['Calle 6 Deli'], ['Fox and Crow'], ['Excellent Adventure Detours'], ['Piccininni Salumaria'], ['Mysttik Masaala'], ['Los Viajeros Food Truck'], ['Sbarro'], ['Eco Hoboken'], [u'The Nag\\\\u2019s Head'], ['Yama Sushi'], ['Bukhari Grill'], [u'Dunkin\\\\u2019 Donuts'], ['Subway'], [u'Jefferson\\\\u2019s Coffee'], ['Scotland Yard'], ['Manchu Wok'], ['Positouch Point of Sale Systems'], ['Harajuku Sushi and Crepe'], [u'Mamma Marci\\\\u2019s'], ['Zena Grill Truk'], ['City of Hoboken'], ['Cadillac Cantina'], ['Brower Club'], ['The Shannon'], ['Starbucks'], ['Living Room'], ['Starbucks'], ['The Balcony'], ['Phillys Cheese Steak'], [u'Filippo\\\\u2019s Restaurant & Pizzeria'], ['Da Vinci Restaurant'], ['Rodeo'], ['Mile Square'], ['Hoboken Class Deli'], ['Island Spice Grill'], [u'Carmelita\\\\u2019s Cafe'], ['Manhattan Express Deli'], ['Tally-Ho'], ['Front Page Chinese Cuisine'], [u'Dunkin\\\\u2019 Donuts'], ['The Hudson Grill Pizza & Deli'], ['Starbucks'], ['US 1 Deli & Grocery'], ['Subway'], [u'Lady Jane\\\\u2019s Restaurant'], ['Peters Deli'], ['Waterway Cafe'], ['Seattle Cafe'], ['Desi Food Truck'], ['Columbus Park'], [u'Smokin\\\\u2019 Chicks BBQ'], ['Maxwell Place Park'], ['Fed by Ed'], [u'Dunkin\\\\u2019 Donuts'], ['Hoboken Mutzfest'], [u'Dunkin\\\\u2019 Donuts'], ['Whipped Pastry Boutique'], ['Maroon'], ['The Flying Pie Guy'], [u'Dunkin\\\\u2019 Donuts'], [u'Dunkin\\\\u2019 Donuts'], [u'Dunkin\\\\u2019 Donuts'], [u'LuLu\\\\u2019s'], ['Church Square Park Dog Run'], ['Latino Bites'], ['Burger Warrior'], ['Shipyard Park'], ['Empanada Papa'], ['Elysian Park'], ['Soul Truck'], ['Stevens Park Dog Run'], ['Periscope Coffee'], ['Hillside Express Halal Food'], [u'Franks Sinatra\\\\u2019s Birthplace'], ['Coney Island Halal Food'], ['Star Fry Noodle Cart'], ['Reign'], ['Try Vegan'], ['Jerk-n-Grind'], ['Legion Park'], ['Modcup Coffee'], ['Elysian Park Dog Run'], ['Maxwell Place Park Playground'], [u'Winnie\\\\u2019s Jerk Chicken & Fish'], ['Mama Johnson Soccer Field'], ['Caffe Bene'], ['Halal Food'], ['Sweetleaf'], ['Makina'], ['S Sullivans Bar & Grill'], [u'Dunkin\\\\u2019 Donuts'], ['Front Yard'], ['Blimpie'], ['La Rouge Coffee'], [u'Mike\\\\u2019s Wild Moose Saloon'], ['Bdp Bar'], ['ABL Shuffleboard League'], ['Aruna Deli & Grocery'], ['Riverview-Fisk Park'], ['Get Free Beverages and Coffees for life'], ['Fine Diners Over 40'], ['Sisig City'], ['Basement Bar'], ['Magic Toosh'], ['El Mixteco'], [u'Peter\\\\u2019s Grocery'], ['Godiva Jems of Hoboken'], ['Coffee Plus'], ['Blind Barber'], ['Urban Crawls'], ['Alma Latina Cafe'], [u'Mahnke\\\\u2019s Deli'], ['Hoboken Lepre-Con'], ['Gopinath Corporation'], ['New York Deli'], ['Washington Park Dog Run'], ['Washington Park'], ['Caffe Bon'], [u'Kobrick\\\\u2019s Coffee Co'], ['Oasis Tavern'], []]\""
      ]
     },
     "execution_count": 105,
     "metadata": {},
     "output_type": "execute_result"
    }
   ],
   "source": [
    "str(title)"
   ]
  },
  {
   "cell_type": "code",
   "execution_count": null,
   "metadata": {
    "collapsed": true
   },
   "outputs": [],
   "source": []
  }
 ],
 "metadata": {
  "kernelspec": {
   "display_name": "Python 2",
   "language": "python",
   "name": "python2"
  },
  "language_info": {
   "codemirror_mode": {
    "name": "ipython",
    "version": 2
   },
   "file_extension": ".py",
   "mimetype": "text/x-python",
   "name": "python",
   "nbconvert_exporter": "python",
   "pygments_lexer": "ipython2",
   "version": "2.7.13"
  }
 },
 "nbformat": 4,
 "nbformat_minor": 2
}
